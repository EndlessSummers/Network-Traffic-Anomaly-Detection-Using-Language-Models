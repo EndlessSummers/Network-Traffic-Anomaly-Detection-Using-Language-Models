{
 "cells": [
  {
   "cell_type": "markdown",
   "metadata": {},
   "source": [
    "# CLSTM for Unsupervised Learning"
   ]
  },
  {
   "cell_type": "markdown",
   "metadata": {},
   "source": [
    "## Data Preprocessing\n",
    "### Including generation of Dyad-hours, sliding windows, and tokenization."
   ]
  },
  {
   "cell_type": "code",
   "execution_count": 1,
   "metadata": {
    "id": "ms7eKL8-sulM"
   },
   "outputs": [
    {
     "name": "stdout",
     "output_type": "stream",
     "text": [
      "Loading data...\n",
      "De-dup Flows: 1889172\n"
     ]
    },
    {
     "name": "stderr",
     "output_type": "stream",
     "text": [
      "C:\\Users\\Yaphe\\AppData\\Local\\Temp\\ipykernel_21628\\997353959.py:49: FutureWarning: Series.__getitem__ treating keys as positions is deprecated. In a future version, integer keys will always be treated as labels (consistent with DataFrame behavior). To access a value by position, use `ser.iloc[pos]`\n",
      "  data['lowIP'] = data[['source','destination']].apply(lambda x: x[0] if x[0] <= x[1] else x[1], axis=1)\n",
      "C:\\Users\\Yaphe\\AppData\\Local\\Temp\\ipykernel_21628\\997353959.py:50: FutureWarning: Series.__getitem__ treating keys as positions is deprecated. In a future version, integer keys will always be treated as labels (consistent with DataFrame behavior). To access a value by position, use `ser.iloc[pos]`\n",
      "  data['highIP'] = data[['source','destination']].apply(lambda x: x[0] if x[0] > x[1] else x[1], axis=1)\n",
      "C:\\Users\\Yaphe\\AppData\\Local\\Temp\\ipykernel_21628\\997353959.py:52: FutureWarning: Series.__getitem__ treating keys as positions is deprecated. In a future version, integer keys will always be treated as labels (consistent with DataFrame behavior). To access a value by position, use `ser.iloc[pos]`\n",
      "  data['protoBytes'] = data[['protocolName','totalBytes']].apply(lambda x: str(x[0])[0] + str(math.floor(np.log2(x[1] + 1.0))), axis=1)\n",
      "c:\\Users\\Yaphe\\anaconda3\\envs\\dl\\Lib\\site-packages\\sklearn\\preprocessing\\_encoders.py:868: FutureWarning: `sparse` was renamed to `sparse_output` in version 1.2 and will be removed in 1.4. `sparse_output` is ignored unless you leave `sparse` to its default value.\n",
      "  warnings.warn(\n"
     ]
    },
    {
     "name": "stdout",
     "output_type": "stream",
     "text": [
      "Ready to Go!\n"
     ]
    }
   ],
   "source": [
    "import numpy as np\n",
    "import pandas as pd\n",
    "import re\n",
    "import h5py\n",
    "from sklearn.preprocessing import LabelEncoder, OneHotEncoder, MinMaxScaler\n",
    "from sklearn.metrics import log_loss, auc, roc_curve\n",
    "from lxml import etree\n",
    "from itertools import groupby\n",
    "import glob\n",
    "import math\n",
    "import itertools\n",
    "from sklearn.metrics import *\n",
    "import matplotlib.pyplot as plt\n",
    "\n",
    "def load_xml_files(directory):\n",
    "    \"\"\"Load and parse XML files into a single DataFrame.\"\"\"\n",
    "    xml_list = glob.glob(f\"{directory}/*.xml\")\n",
    "    parser = etree.XMLParser(recover=True)\n",
    "    dfs = []\n",
    "\n",
    "    for ii in xml_list:\n",
    "        with open(ii, 'rb') as file:\n",
    "            xml_data = file.read()\n",
    "            root = etree.fromstring(xml_data, parser=parser)\n",
    "            all_records = []\n",
    "            for i, child in enumerate(root):\n",
    "                record = {}\n",
    "                for subchild in child:\n",
    "                    record[subchild.tag] = subchild.text\n",
    "                all_records.append(record)\n",
    "            dfs.append(pd.DataFrame(all_records))\n",
    "    \n",
    "    data = pd.concat(dfs, ignore_index=True)\n",
    "    return data.drop_duplicates().sort_values(\"startDateTime\")\n",
    "\n",
    "def preprocess_data(data):\n",
    "    \"\"\"Preprocess the data for sequence generation.\"\"\"\n",
    "    data['totalBytes'] = data['totalSourceBytes'].astype(float) + data['totalDestinationBytes'].astype(float)\n",
    "    data['seqId'] = data['lowIP'] + '_' + data['highIP']  + '_' + data['startDateTime'].str[:13]\n",
    "    data['protoBytes'] = data[['protocolName','totalBytes']].apply(\n",
    "        lambda x: str(x[0])[0] + str(int(np.log2(x[1] + 1.0))), axis=1)\n",
    "    return data\n",
    "\n",
    "def create_sequences(data, seq_len=10):\n",
    "    \"\"\"Create input and output sequences from data.\"\"\"\n",
    "    key = data.groupby('seqId')[['Tag', 'protoBytes']].agg({\n",
    "        \"Tag\": lambda x: \"%s\" % ','.join([a for a in x]),\n",
    "        \"protoBytes\": lambda x: \"%s\" % ','.join([str(a) for a in x])\n",
    "    })\n",
    "\n",
    "    attacks = [a.split(\",\") for a in key['Tag'].tolist()]\n",
    "    sequences = [a.split(\",\") for a in key['protoBytes'].tolist()]\n",
    "    unique_tokens = list(set([a for b in sequences for a in b]))\n",
    "\n",
    "    le = LabelEncoder()\n",
    "    unique_tokens = list(set([a for b in sequences for a in b]))\n",
    "    le.fit(unique_tokens)\n",
    "    sequences = [le.transform(s).tolist() for s in sequences]\n",
    "    sequences = [[b+1 for b in a] for a in sequences]\n",
    "\n",
    "    sequence_attack = zip(attacks, sequences)\n",
    "\n",
    "    seq_x = []\n",
    "    seq_y = []\n",
    "    seq_index = []\n",
    "    seq_attack = []\n",
    "    for si, (sa, ss) in enumerate(sequence_attack):\n",
    "        prepend = [0.] * seq_len\n",
    "        seq = prepend + ss\n",
    "        seqa = prepend + sa\n",
    "        for ii in range(seq_len, len(seq)):\n",
    "            subseq = seq[(ii-seq_len):ii]\n",
    "            seq_x.append(subseq)\n",
    "            seq_y.append(seq[ii])\n",
    "            seq_index.append(si)\n",
    "            seq_attack.append(seqa[ii])\n",
    "\n",
    "    return np.array(seq_x), np.array(seq_y), seq_index, seq_attack, unique_tokens\n",
    "\n",
    "# Configuration and Initialization\n",
    "data_directory = r\"D:\\AML\\ISCX dataset\\dirty\"\n",
    "print(\"Loading data...\")\n",
    "data = load_xml_files(data_directory)\n",
    "print(\"Preprocessing data...\")\n",
    "data = preprocess_data(data)\n",
    "print(\"Creating sequences...\")\n",
    "seq_x, seq_y, seq_index, seq_attack, unique_tokens = create_sequences(data)\n",
    "ohe = OneHotEncoder(sparse=False)\n",
    "ohe_y = ohe.fit_transform(np.array(seq_y).reshape(-1, 1))\n",
    "X = np.array(seq_x)\n",
    "print(\"Ready to go!\")"
   ]
  },
  {
   "cell_type": "markdown",
   "metadata": {},
   "source": [
    "## Definition of the CLSTM Model\n",
    "### We also utilized Convolutional LSTM (CLSTM) networks, which incorporate convolutional layers within the LSTM architecture, which consists of: The embedding layer converting input tokens into 100-dimensional vectors, with a padding index set at 0. Two 1D convolutional layers, each with 100 filters, a kernel size of 3, stride of 1, and padding of 1, designed to extract spatial features from the data. Two LSTM layers with 100 inputs and 50 hidden units each, processing data in both forward and backward directions to capture temporal dependencies. Dropout layers interspersed with a rate of 0.2 to prevent overfitting. And fully connected layers transforming LSTM outputs to the final output through two linear layers, reducing the features from 100 to 50, and then to 54 classes matching the vocabulary size."
   ]
  },
  {
   "cell_type": "code",
   "execution_count": 2,
   "metadata": {
    "id": "oxN-MyH_s3X_"
   },
   "outputs": [],
   "source": [
    "import torch\n",
    "import torch.nn as nn\n",
    "from torch.utils.data import Dataset, DataLoader\n",
    "from sklearn.model_selection import train_test_split\n",
    "import time\n",
    "\n",
    "# Define the Dataset\n",
    "class SequenceDataset(Dataset):\n",
    "    def __init__(self, X, y):\n",
    "        self.X = X\n",
    "        self.y = y\n",
    "\n",
    "    def __len__(self):\n",
    "        return len(self.X)\n",
    "\n",
    "    def __getitem__(self, idx):\n",
    "        x = torch.tensor(self.X[idx], dtype=torch.long)\n",
    "        # Assuming y is already class indices here\n",
    "        y = torch.tensor(self.y[idx], dtype=torch.long)  # Changed to long dtype\n",
    "        return x, y\n",
    "\n",
    "X_train, X_test, y_train, y_test = train_test_split(np.asarray(X), np.asarray(seq_y), test_size=0.2, random_state=42)\n",
    "train_dataset = SequenceDataset(X_train, y_train)\n",
    "test_dataset = SequenceDataset(X_test, y_test)\n",
    "\n",
    "train_loader = DataLoader(train_dataset, batch_size=512, shuffle=False)\n",
    "test_loader = DataLoader(test_dataset, batch_size=512, shuffle=False)  # Shuffle=False for testing\n"
   ]
  },
  {
   "cell_type": "code",
   "execution_count": 3,
   "metadata": {},
   "outputs": [],
   "source": [
    "import torch\n",
    "import torch.nn as nn\n",
    "\n",
    "# Define the CLSTM Model\n",
    "class CLSTM(nn.Module):\n",
    "    def __init__(self, vocab_size, embedding_dim, hidden_dim, output_dim):\n",
    "        super(CLSTM, self).__init__()\n",
    "        self.embedding = nn.Embedding(vocab_size, embedding_dim, padding_idx=0)\n",
    "        \n",
    "        # Convolutional Layers\n",
    "        self.conv1 = nn.Conv1d(embedding_dim, embedding_dim, kernel_size=3, padding=1)\n",
    "        self.conv2 = nn.Conv1d(embedding_dim, embedding_dim, kernel_size=3, padding=1)\n",
    "        \n",
    "        self.lstm1 = nn.LSTM(embedding_dim, hidden_dim, batch_first=True, bidirectional=True)\n",
    "        self.dropout1 = nn.Dropout(0.2)\n",
    "        \n",
    "        self.lstm2 = nn.LSTM(hidden_dim*2, hidden_dim, batch_first=True, bidirectional=True)\n",
    "        self.dropout2 = nn.Dropout(0.2)\n",
    "        \n",
    "        self.fc1 = nn.Linear(hidden_dim*2, 50)\n",
    "        self.dropout3 = nn.Dropout(0.2)\n",
    "        self.fc2 = nn.Linear(50, output_dim)\n",
    "\n",
    "    def forward(self, x):\n",
    "        embedded = self.embedding(x)\n",
    "        \n",
    "        # Reshape for Conv1D input (batch_size, channels, seq_length)\n",
    "        embedded = embedded.permute(0, 2, 1)\n",
    "        \n",
    "        # Apply convolutional layers with activation\n",
    "        conv_out = torch.relu(self.conv1(embedded))\n",
    "        conv_out = torch.relu(self.conv2(conv_out))\n",
    "        \n",
    "        # Reshape back to (batch_size, seq_length, channels)\n",
    "        conv_out = conv_out.permute(0, 2, 1)\n",
    "        \n",
    "        lstm_out, _ = self.lstm1(conv_out)\n",
    "        lstm_out = self.dropout1(lstm_out)\n",
    "        \n",
    "        lstm_out, _ = self.lstm2(lstm_out)\n",
    "        lstm_out = self.dropout2(lstm_out[:, -1, :])  # Get the output of the last time step\n",
    "        \n",
    "        dense_out = torch.relu(self.fc1(lstm_out))\n",
    "        dense_out = self.dropout3(dense_out)\n",
    "        out = self.fc2(dense_out)  # No softmax here\n",
    "        return out\n",
    "\n",
    "# Device configuration\n",
    "device = torch.device('cuda' if torch.cuda.is_available() else 'cpu')\n",
    "\n",
    "# Initialize model, loss, and optimizer\n",
    "vocab_size = len(unique_tokens) + 1  # Account for padding index\n",
    "model = CLSTM(vocab_size, 100, 50, vocab_size).to(device)\n",
    "criterion = nn.CrossEntropyLoss()\n",
    "optimizer = torch.optim.Adam(model.parameters())"
   ]
  },
  {
   "cell_type": "markdown",
   "metadata": {},
   "source": [
    "## Architecture of CLSTM for Unsupervised Learning"
   ]
  },
  {
   "cell_type": "code",
   "execution_count": 4,
   "metadata": {},
   "outputs": [
    {
     "name": "stdout",
     "output_type": "stream",
     "text": [
      "CLSTM(\n",
      "  (embedding): Embedding(54, 100, padding_idx=0)\n",
      "  (conv1): Conv1d(100, 100, kernel_size=(3,), stride=(1,), padding=(1,))\n",
      "  (conv2): Conv1d(100, 100, kernel_size=(3,), stride=(1,), padding=(1,))\n",
      "  (lstm1): LSTM(100, 50, batch_first=True, bidirectional=True)\n",
      "  (dropout1): Dropout(p=0.2, inplace=False)\n",
      "  (lstm2): LSTM(100, 50, batch_first=True, bidirectional=True)\n",
      "  (dropout2): Dropout(p=0.2, inplace=False)\n",
      "  (fc1): Linear(in_features=100, out_features=50, bias=True)\n",
      "  (dropout3): Dropout(p=0.2, inplace=False)\n",
      "  (fc2): Linear(in_features=50, out_features=54, bias=True)\n",
      ")\n"
     ]
    }
   ],
   "source": [
    "print(model)"
   ]
  },
  {
   "cell_type": "markdown",
   "metadata": {},
   "source": [
    "## Training Process\n",
    "### We utilized CrossEntropyLoss and Adam optimizer for adjusting network weights during training. The model is trained with learning rate of 1e-3, for 15 epochs."
   ]
  },
  {
   "cell_type": "code",
   "execution_count": 5,
   "metadata": {},
   "outputs": [
    {
     "name": "stdout",
     "output_type": "stream",
     "text": [
      "Epoch 1/15, Loss: 1.6814, Accuracy: 45.59%, Test Loss: 1.5559, Test Accuracy: 48.36%, Duration: 40.15 seconds\n",
      "Epoch 2/15, Loss: 1.5791, Accuracy: 47.99%, Test Loss: 1.5330, Test Accuracy: 48.92%, Duration: 38.35 seconds\n",
      "Epoch 3/15, Loss: 1.5606, Accuracy: 48.53%, Test Loss: 1.5235, Test Accuracy: 49.17%, Duration: 37.51 seconds\n",
      "Epoch 4/15, Loss: 1.5514, Accuracy: 48.81%, Test Loss: 1.5183, Test Accuracy: 49.30%, Duration: 72.33 seconds\n",
      "Epoch 5/15, Loss: 1.5447, Accuracy: 48.98%, Test Loss: 1.5151, Test Accuracy: 49.37%, Duration: 86.95 seconds\n",
      "Epoch 6/15, Loss: 1.5400, Accuracy: 49.07%, Test Loss: 1.5125, Test Accuracy: 49.40%, Duration: 76.47 seconds\n",
      "Epoch 7/15, Loss: 1.5369, Accuracy: 49.17%, Test Loss: 1.5102, Test Accuracy: 49.53%, Duration: 90.49 seconds\n",
      "Epoch 8/15, Loss: 1.5333, Accuracy: 49.26%, Test Loss: 1.5088, Test Accuracy: 49.61%, Duration: 95.60 seconds\n",
      "Epoch 9/15, Loss: 1.5311, Accuracy: 49.33%, Test Loss: 1.5069, Test Accuracy: 49.69%, Duration: 95.26 seconds\n",
      "Epoch 10/15, Loss: 1.5288, Accuracy: 49.37%, Test Loss: 1.5057, Test Accuracy: 49.65%, Duration: 93.82 seconds\n",
      "Epoch 11/15, Loss: 1.5272, Accuracy: 49.42%, Test Loss: 1.5048, Test Accuracy: 49.71%, Duration: 94.36 seconds\n",
      "Epoch 12/15, Loss: 1.5252, Accuracy: 49.46%, Test Loss: 1.5043, Test Accuracy: 49.68%, Duration: 96.63 seconds\n",
      "Epoch 13/15, Loss: 1.5231, Accuracy: 49.56%, Test Loss: 1.5029, Test Accuracy: 49.79%, Duration: 95.91 seconds\n",
      "Epoch 14/15, Loss: 1.5216, Accuracy: 49.60%, Test Loss: 1.5026, Test Accuracy: 49.82%, Duration: 96.11 seconds\n",
      "Epoch 15/15, Loss: 1.5204, Accuracy: 49.62%, Test Loss: 1.5022, Test Accuracy: 49.76%, Duration: 100.90 seconds\n"
     ]
    }
   ],
   "source": [
    "import time\n",
    "import matplotlib.pyplot as plt\n",
    "import torch\n",
    "\n",
    "# Lists to track loss and accuracy\n",
    "train_losses = []\n",
    "test_losses = []\n",
    "train_accuracies = []\n",
    "test_accuracies = []\n",
    "\n",
    "epochs = 15\n",
    "for epoch in range(epochs):\n",
    "    epoch_start_time = time.time()\n",
    "    model.train()\n",
    "    running_loss = 0.0\n",
    "    correct_predictions = 0\n",
    "    total_predictions = 0\n",
    "\n",
    "    for inputs, targets in train_loader:\n",
    "        inputs = inputs.to(device)\n",
    "        targets = targets.to(device)\n",
    "        optimizer.zero_grad()\n",
    "        outputs = model(inputs)\n",
    "        loss = criterion(outputs, targets)\n",
    "        running_loss += loss.item()\n",
    "        loss.backward()\n",
    "        optimizer.step()\n",
    "\n",
    "        _, predicted = torch.max(outputs.data, 1)\n",
    "        total_predictions += targets.size(0)\n",
    "        correct_predictions += (predicted == targets).sum().item()\n",
    "\n",
    "    # Average training loss and accuracy\n",
    "    epoch_loss = running_loss / len(train_loader)\n",
    "    epoch_accuracy = correct_predictions / total_predictions * 100\n",
    "    train_losses.append(epoch_loss)\n",
    "    train_accuracies.append(epoch_accuracy)\n",
    "\n",
    "    # Evaluation\n",
    "    model.eval()\n",
    "    test_loss = 0.0\n",
    "    correct_predictions = 0\n",
    "    total_predictions = 0\n",
    "\n",
    "    with torch.no_grad():\n",
    "        for inputs, targets in test_loader:\n",
    "            inputs = inputs.to(device)\n",
    "            targets = targets.to(device)\n",
    "            outputs = model(inputs)\n",
    "            loss = criterion(outputs, targets)\n",
    "            test_loss += loss.item()\n",
    "\n",
    "            _, predicted = torch.max(outputs.data, 1)\n",
    "            total_predictions += targets.size(0)\n",
    "            correct_predictions += (predicted == targets).sum().item()\n",
    "\n",
    "    # Average test loss and accuracy\n",
    "    test_epoch_loss = test_loss / len(test_loader)\n",
    "    test_accuracy = correct_predictions / total_predictions * 100\n",
    "    test_losses.append(test_epoch_loss)\n",
    "    test_accuracies.append(test_accuracy)\n",
    "\n",
    "    epoch_end_time = time.time()\n",
    "    epoch_duration = epoch_end_time - epoch_start_time\n",
    "\n",
    "    print(f\"Epoch {epoch+1}/{epochs}, Loss: {epoch_loss:.4f}, Accuracy: {epoch_accuracy:.2f}%, \"\n",
    "          f\"Test Loss: {test_epoch_loss:.4f}, Test Accuracy: {test_accuracy:.2f}%, \"\n",
    "          f\"Duration: {epoch_duration:.2f} seconds\")"
   ]
  },
  {
   "cell_type": "markdown",
   "metadata": {},
   "source": [
    "## Loss over Epochs Plot for Training Process"
   ]
  },
  {
   "cell_type": "code",
   "execution_count": 6,
   "metadata": {},
   "outputs": [
    {
     "data": {
      "image/png": "[encoded data removed]",
      "text/plain": [
       "<Figure size 1000x500 with 1 Axes>"
      ]
     },
     "metadata": {},
     "output_type": "display_data"
    }
   ],
   "source": [
    "plt.figure(figsize=(10, 5))\n",
    "plt.plot(train_losses, label='Training Loss')\n",
    "plt.plot(test_losses, label='Test Loss')\n",
    "plt.title('Loss vs. Epochs')\n",
    "plt.xlabel('Epochs')\n",
    "plt.ylabel('Loss')\n",
    "plt.legend()\n",
    "plt.grid(True)\n",
    "plt.show()"
   ]
  },
  {
   "cell_type": "markdown",
   "metadata": {},
   "source": [
    "## Functions for Prediction"
   ]
  },
  {
   "cell_type": "code",
   "execution_count": 8,
   "metadata": {
    "id": "Gx9IFDAPs7PZ"
   },
   "outputs": [],
   "source": [
    "from torch.utils.data import DataLoader, TensorDataset\n",
    "\n",
    "# Convert X to a PyTorch DataLoader\n",
    "# ensure X is a tensor of the correct type. \n",
    "X_tensor = torch.tensor(X, dtype=torch.long)  # Convert X to a long tensor\n",
    "\n",
    "data_loader = DataLoader(TensorDataset(X_tensor), batch_size=512)\n",
    "\n",
    "predictions = []\n",
    "model = model.to('cpu')\n",
    "with torch.no_grad():\n",
    "    for batch in data_loader:\n",
    "        inputs = batch[0]\n",
    "        outputs = model(inputs)\n",
    "        predictions.extend(outputs.detach().numpy())\n",
    "\n",
    "\n",
    "predictions = np.array(predictions)\n",
    "\n",
    "# Apply softmax to represent probabilities\n",
    "predictions = torch.softmax(torch.tensor(predictions), dim=1).numpy()\n"
   ]
  },
  {
   "cell_type": "code",
   "execution_count": null,
   "metadata": {},
   "outputs": [],
   "source": [
    "test_index = range(0,len(predictions))\n",
    "indexed_preds = zip(np.asarray(seq_index)[np.asarray(test_index)], predictions, ohe_y[np.asarray(test_index)], np.asarray(seq_attack)[np.asarray(test_index)])\n",
    "logloss_list = []\n",
    "epsilon = 1e-10\n",
    "for (ii, pp, yy, aa) in indexed_preds:\n",
    "    ll = -math.log(pp[np.argmax(yy)] + epsilon)\n",
    "    logloss_list.append(ll)\n",
    "\n",
    "fpr, tpr, thresholds = roc_curve(np.asarray(seq_attack)[np.asarray(test_index)],logloss_list, pos_label=\"Attack\")"
   ]
  },
  {
   "cell_type": "markdown",
   "metadata": {},
   "source": [
    "## ROC Curve for \"Dirty\" Dataset"
   ]
  },
  {
   "cell_type": "code",
   "execution_count": null,
   "metadata": {},
   "outputs": [],
   "source": [
    "key_ll = zip(seq_index, logloss_list, seq_attack)\n",
    "dictionary = dict()\n",
    "for (key, ll, aa) in key_ll: #\n",
    "    current_value = dictionary.get(str(key), ([],[]))\n",
    "    dictionary[str(key)] = (current_value[0] + [ll], current_value[1] + [aa])\n",
    "\n",
    "agg_ll = []\n",
    "agg_bad = []\n",
    "for key, val in dictionary.items():\n",
    "    bad = str(np.mean([v==\"Attack\" for v in val[1]]) > 0.)\n",
    "    score = np.max(val[0])\n",
    "    agg_bad.append(bad)\n",
    "    agg_ll.append(score)\n",
    "    \n",
    "fpr, tpr, thresholds = roc_curve(agg_bad, agg_ll, pos_label=\"True\")\n",
    "\n",
    "plt.figure()\n",
    "lw = 2\n",
    "plt.plot(fpr, tpr, color='darkorange',\n",
    "         lw=lw, label='ROC curve (area = %0.2f)' % auc(fpr,tpr))\n",
    "plt.plot([0, 1], [0, 1], color='navy', lw=lw, linestyle='--')\n",
    "plt.xlim([0.0, 1.0])\n",
    "plt.ylim([0.0, 1.05])\n",
    "plt.xlabel('False Positive Rate')\n",
    "plt.ylabel('True Positive Rate')\n",
    "plt.title('Proto-bytes Dirty Baseline')\n",
    "plt.legend(loc=\"lower right\")\n",
    "#plt.savefig(\"graphics/protobytes_dirty.pdf\",format=\"pdf\")\n",
    "plt.show()"
   ]
  },
  {
   "cell_type": "markdown",
   "metadata": {},
   "source": [
    "## ROC Curve for \"NoDDOS\" Dataset"
   ]
  },
  {
   "cell_type": "code",
   "execution_count": null,
   "metadata": {},
   "outputs": [],
   "source": [
    "key_ll = zip(seq_index, logloss_list, seq_attack)\n",
    "dictionary = dict()\n",
    "for (key, ll, aa) in key_ll: #\n",
    "    current_value = dictionary.get(str(key), ([],[]))\n",
    "    dictionary[str(key)] = (current_value[0] + [ll], current_value[1] + [aa])\n",
    "\n",
    "agg_ll = []\n",
    "agg_bad = []\n",
    "for key, val in dictionary.items():\n",
    "    bad = str(np.mean([v==\"Attack\" for v in val[1]]) > 0.)\n",
    "    score = np.max(val[0])\n",
    "    agg_bad.append(bad)\n",
    "    agg_ll.append(score)\n",
    "    \n",
    "fpr, tpr, thresholds = roc_curve(agg_bad, agg_ll, pos_label=\"True\")\n",
    "\n",
    "plt.figure()\n",
    "lw = 2\n",
    "plt.plot(fpr, tpr, color='darkorange',\n",
    "         lw=lw, label='ROC curve (area = %0.2f)' % auc(fpr,tpr))\n",
    "plt.plot([0, 1], [0, 1], color='navy', lw=lw, linestyle='--')\n",
    "plt.xlim([0.0, 1.0])\n",
    "plt.ylim([0.0, 1.05])\n",
    "plt.xlabel('False Positive Rate')\n",
    "plt.ylabel('True Positive Rate')\n",
    "plt.title('Proto-bytes NoDDOS Baseline')\n",
    "plt.legend(loc=\"lower right\")\n",
    "#plt.savefig(\"graphics/protobytes_dirty.pdf\",format=\"pdf\")\n",
    "plt.show()"
   ]
  },
  {
   "cell_type": "markdown",
   "metadata": {},
   "source": [
    "## ROC Curve for \"Clean\" Dataset"
   ]
  },
  {
   "cell_type": "code",
   "execution_count": null,
   "metadata": {},
   "outputs": [],
   "source": [
    "key_ll = zip(seq_index, logloss_list, seq_attack)\n",
    "dictionary = dict()\n",
    "for (key, ll, aa) in key_ll: #\n",
    "    current_value = dictionary.get(str(key), ([],[]))\n",
    "    dictionary[str(key)] = (current_value[0] + [ll], current_value[1] + [aa])\n",
    "\n",
    "agg_ll = []\n",
    "agg_bad = []\n",
    "for key, val in dictionary.items():\n",
    "    bad = str(np.mean([v==\"Attack\" for v in val[1]]) > 0.)\n",
    "    score = np.max(val[0])\n",
    "    agg_bad.append(bad)\n",
    "    agg_ll.append(score)\n",
    "    \n",
    "fpr, tpr, thresholds = roc_curve(agg_bad, agg_ll, pos_label=\"True\")\n",
    "\n",
    "plt.figure()\n",
    "lw = 2\n",
    "plt.plot(fpr, tpr, color='darkorange',\n",
    "         lw=lw, label='ROC curve (area = %0.2f)' % auc(fpr,tpr))\n",
    "plt.plot([0, 1], [0, 1], color='navy', lw=lw, linestyle='--')\n",
    "plt.xlim([0.0, 1.0])\n",
    "plt.ylim([0.0, 1.05])\n",
    "plt.xlabel('False Positive Rate')\n",
    "plt.ylabel('True Positive Rate')\n",
    "plt.title('Proto-bytes Clean Baseline')\n",
    "plt.legend(loc=\"lower right\")\n",
    "#plt.savefig(\"graphics/protobytes_dirty.pdf\",format=\"pdf\")\n",
    "plt.show()"
   ]
  },
  {
   "cell_type": "markdown",
   "metadata": {},
   "source": [
    "## Performance Metrics (For \"Dirty\" Model, which is the best)"
   ]
  },
  {
   "cell_type": "code",
   "execution_count": 42,
   "metadata": {},
   "outputs": [
    {
     "name": "stdout",
     "output_type": "stream",
     "text": [
      "Precision: 0.80\n",
      "Recall: 0.75\n",
      "F1 Score: 0.77\n",
      "Accuracy: 0.89\n"
     ]
    }
   ],
   "source": [
    "key_ll = zip(seq_index, logloss_list, seq_attack)\n",
    "dictionary = dict()\n",
    "for (key, ll, aa) in key_ll: #\n",
    "    current_value = dictionary.get(str(key), ([],[]))\n",
    "    dictionary[str(key)] = (current_value[0] + [ll], current_value[1] + [aa])\n",
    "\n",
    "agg_ll = []\n",
    "agg_bad = []\n",
    "for key, val in dictionary.items():\n",
    "    bad = str(np.mean([v==\"Attack\" for v in val[1]]) > 0.)\n",
    "    score = np.max(val[0])\n",
    "    agg_bad.append(bad)\n",
    "    agg_ll.append(score)\n",
    "    \n",
    "fpr, tpr, thresholds = roc_curve(agg_bad, agg_ll, pos_label=\"True\")\n",
    "\n",
    "#! Find the true last token in the window\n",
    "true_labels = np.argmax(ohe_y, 1)\n",
    "\n",
    "#! Given the predictions and true labels, we can now aggregate the results\n",
    "prob = [predictions[i, true_labels[i]] for i in range(len(ohe_y))]\n",
    "agg_list = zip(seq_index, prob, seq_attack)\n",
    "dictionary = {}\n",
    "for (ii, pp, aa) in agg_list:\n",
    "    current_value = dictionary.get(str(ii), ([],[]))\n",
    "    dictionary[str(ii)] = (current_value[0] + [pp], current_value[1] + [aa])\n",
    "\n",
    "#! Predict dyad hour data attack or not\n",
    "agg_pred = []\n",
    "agg_true = []\n",
    "\n",
    "for key, val in dictionary.items():\n",
    "    bad = np.mean([v==\"Attack\" for v in val[1]]) > 0\n",
    "    score = np.min(val[0]) < 0.001\n",
    "    agg_true.append(int(bad))\n",
    "    agg_pred.append(int(score))\n",
    "\n",
    "from sklearn.metrics import roc_curve, auc, precision_score, recall_score, f1_score, accuracy_score\n",
    "\n",
    "# Assume the required data has been processed up to agg_pred and agg_true as shown above\n",
    "\n",
    "# Calculating metrics\n",
    "precision = precision_score(agg_true, agg_pred)\n",
    "recall = recall_score(agg_true, agg_pred)\n",
    "f1 = f1_score(agg_true, agg_pred)\n",
    "accuracy = accuracy_score(agg_true, agg_pred)\n",
    "\n",
    "print(f\"Precision: {precision:.2f}\")\n",
    "print(f\"Recall: {recall:.2f}\")\n",
    "print(f\"F1 Score: {f1:.2f}\")\n",
    "print(f\"Accuracy: {accuracy:.2f}\")\n",
    "\n",
    "\n",
    "# print(\"Prediction of Attack: \", agg_pred)\n",
    "# print(\"True Label of Attack \", agg_true)  "
   ]
  }
 ],
 "metadata": {
  "colab": {
   "provenance": []
  },
  "kernelspec": {
   "display_name": "Python 3 (ipykernel)",
   "language": "python",
   "name": "python3"
  },
  "language_info": {
   "codemirror_mode": {
    "name": "ipython",
    "version": 3
   },
   "file_extension": ".py",
   "mimetype": "text/x-python",
   "name": "python",
   "nbconvert_exporter": "python",
   "pygments_lexer": "ipython3",
   "version": "3.9.13"
  }
 },
 "nbformat": 4,
 "nbformat_minor": 1
}
